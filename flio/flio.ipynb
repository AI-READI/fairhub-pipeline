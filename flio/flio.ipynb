{
 "cells": [
  {
   "cell_type": "code",
   "execution_count": 1,
   "metadata": {},
   "outputs": [],
   "source": [
    "import sys\n",
    "\n",
    "sys.path.append(\".../pipeline_imaging/imaging\")  #'/path/to/your/project'"
   ]
  },
  {
   "cell_type": "code",
   "execution_count": 2,
   "metadata": {},
   "outputs": [],
   "source": [
    "import pydicom\n",
    "import imaging_utils\n",
    "import os"
   ]
  },
  {
   "cell_type": "markdown",
   "metadata": {},
   "source": [
    "# Folder structures"
   ]
  },
  {
   "cell_type": "code",
   "execution_count": 6,
   "metadata": {},
   "outputs": [],
   "source": [
    "# Pooled date folders across three sites\n",
    "# step1 (pooled)/\n",
    "# └── FLIO/\n",
    "#  ├── UW_FLIO_20240730-20240827/\n",
    "#  └── UW_FLIO_20240730-20240827/\n",
    "#      ├──457_AIREADI_1375\n",
    "#      └──268_AIREADI_4248\n",
    "\n",
    "\n",
    "# => flio_instance.organize =>\n",
    "\n",
    "# Files orangnized by per scan\n",
    "# step2/\n",
    "# └── FLIO/\n",
    "#  ├── flio_268_AIREADI_4248_2024_07_01-13_00_29_OD\n",
    "#  ├── flio_268_AIREADI_4248_2024_07_01-13_03_01_OS\n",
    "#  ├── ...\n",
    "#  └── flio_459_AIREADI_1376_2024_07_25-13_02_15_OS\n",
    "#      ├── AF_Intensity_LONG-Channel.bmp\n",
    "#      ├── AF_Intensity_Long+Short_Channels.bmp\n",
    "#      ├── AF_Intensity_Short-Channel.bmp\n",
    "#      ├── measurement_info.html\n",
    "#      └── Measurement.sdt\n",
    "\n",
    "#  => spectralis_instance.convert1 =>\n",
    "\n",
    "# From a scan, dicom files are created\n",
    "# step3/\n",
    "# └── FLIO/\n",
    "#     ├── 1375_flio_long_wavelength_l_1.2.826.0.1.3680043.8.498.73459378417040338489805556532204911380.dcm\n",
    "#     ├── 1375_flio_long_wavelength_l_1.2.826.0.1.3680043.8.498.73459378417040338489805556532204911380.dcm\n",
    "#     └── ... (additional DICOM files)\n",
    "\n",
    "\n",
    "#  => flio_instance.converted2 =>\n",
    "\n",
    "# From a dicom file, NEMA compliant DICOM files are created\n",
    "# step4/\n",
    "# └── FLIO/\n",
    "#     ├── converted_1375_flio_long_wavelength_l_1.2.826.0.1.3680043.8.498.73459378417040338489805556532204911380.dcm\n",
    "#     ├── converted_1375_flio_long_wavelength_l_1.2.826.0.1.3680043.8.498.73459378417040338489805556532204911380.dcm\n",
    "#     └── ... (additional DICOM files)\n",
    "\n",
    "#  => imaging_utils.format_file =>\n",
    "#  => flio_instance.metadata =>\n",
    "\n",
    "# De-identified again, file renamed, and organized in a final structure for data relase\n",
    "# step5/\n",
    "# └── FLIO/\n",
    "#    ├── retinal_flio/\n",
    "#         └── heidelberg_flio/\n",
    "#               ├── 1001\n",
    "#               ├── 1002\n",
    "#               ├── ... (additional folders)\n",
    "#               ├── 1003\n",
    "#                     └── 1375_flio_long_wavelength_r_1.2.826.0.1.3680043.8.498.12481560985877485897830542137951711344.dcm\n",
    "#                     └── 1375_flio_long_wavelength_r_1.2.826.0.1.3680043.8.498.12481560985877485897830542137951711344.dcm\n",
    "\n",
    "# step_metadata/\n",
    "# └── FLIO/\n",
    "#    ├── retinal_flio/\n",
    "#         ├── filename1.json\n",
    "#         ├── filename2.json\n",
    "#         ├── filename3.json\n",
    "#         └── ... (additional JSON files)"
   ]
  },
  {
   "cell_type": "markdown",
   "metadata": {},
   "source": [
    "# FLIO Instance"
   ]
  },
  {
   "cell_type": "code",
   "execution_count": null,
   "metadata": {},
   "outputs": [],
   "source": [
    "from imaging_flio_root import Flio\n",
    "\n",
    "flio_instance = Flio()"
   ]
  },
  {
   "cell_type": "code",
   "execution_count": 6,
   "metadata": {},
   "outputs": [],
   "source": [
    "device = \"Flio\"\n",
    "\n",
    "main = f\"/Volume\"\n",
    "\n",
    "step1 = f\"{main}\"\n",
    "step2 = f\"{main}/step2\"\n",
    "step3 = f\"{main}/step3\"\n",
    "step4 = f\"{main}/step4\"\n",
    "step5 = f\"{main}/step5\"\n",
    "step_metadata = f\"{main}/metadata\"\n",
    "\n",
    "jsonpath = \".../pipeline_imaging/imaging/flio_uid_data.json\""
   ]
  },
  {
   "cell_type": "markdown",
   "metadata": {},
   "source": [
    "\n",
    "# Organize by scan"
   ]
  },
  {
   "cell_type": "code",
   "execution_count": 7,
   "metadata": {},
   "outputs": [],
   "source": [
    "folders = imaging_utils.list_subfolders(f\"{step1}/{device}\")\n",
    "for folder in folders:\n",
    "    organize_result = flio_instance.organize(folder, f\"{step2}/{device}\")"
   ]
  },
  {
   "cell_type": "markdown",
   "metadata": {},
   "source": [
    "# Convert1 - convert a folder (worth one scan) to two dicom files"
   ]
  },
  {
   "cell_type": "code",
   "execution_count": null,
   "metadata": {},
   "outputs": [],
   "source": [
    "folders = imaging_utils.list_subfolders(f\"{step2}/{device}\")\n",
    "\n",
    "for folder in folders:\n",
    "    if \"flio\" in folder:\n",
    "        flio_instance.convert1(folder, f\"{step3}/{device}\", jsonpath)"
   ]
  },
  {
   "cell_type": "markdown",
   "metadata": {},
   "source": [
    "# Convert 2 - convert dicom files to NEMA compliant dicom files"
   ]
  },
  {
   "cell_type": "code",
   "execution_count": 9,
   "metadata": {},
   "outputs": [],
   "source": [
    "filtered_list = imaging_utils.get_filtered_file_names(f\"{step3}/{device}\")\n",
    "\n",
    "for file in filtered_list:\n",
    "    if \"flio\" in file:\n",
    "        cov_result = flio_instance.convert2(file, f\"{step4}/{device}\")"
   ]
  },
  {
   "cell_type": "markdown",
   "metadata": {},
   "source": [
    "# Files are de-identified again, file renamed, and organized in a final structure for data relase + output metadata"
   ]
  },
  {
   "cell_type": "code",
   "execution_count": 12,
   "metadata": {},
   "outputs": [],
   "source": [
    "filelist = imaging_utils.get_filtered_file_names(f\"{step4}/{device}\")\n",
    "\n",
    "for file in filelist:\n",
    "    if \"flio\" in file:\n",
    "        full_file_path = imaging_utils.format_file(file, f\"{step5}/{device}\")\n",
    "        flio_instance.metadata(full_file_path, f\"{step_metadata}/{device}\")"
   ]
  }
 ],
 "metadata": {
  "kernelspec": {
   "display_name": ".myvenv",
   "language": "python",
   "name": "python3"
  },
  "language_info": {
   "codemirror_mode": {
    "name": "ipython",
    "version": 3
   },
   "file_extension": ".py",
   "mimetype": "text/x-python",
   "name": "python",
   "nbconvert_exporter": "python",
   "pygments_lexer": "ipython3",
   "version": "3.12.2"
  }
 },
 "nbformat": 4,
 "nbformat_minor": 2
}
