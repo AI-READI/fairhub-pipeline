{
 "cells": [
  {
   "cell_type": "markdown",
   "metadata": {},
   "source": [
    "# Pipeline"
   ]
  },
  {
   "cell_type": "code",
   "execution_count": null,
   "metadata": {},
   "outputs": [],
   "source": [
    "import imaging_utils\n",
    "import os"
   ]
  },
  {
   "cell_type": "code",
   "execution_count": null,
   "metadata": {},
   "outputs": [],
   "source": [
    "import sys\n",
    "\n",
    "\n",
    "sys.path.append(\".../pipeline_imaging/imaging\")  #'/path/to/your/project'"
   ]
  },
  {
   "cell_type": "markdown",
   "metadata": {},
   "source": [
    "#  Folder structures"
   ]
  },
  {
   "cell_type": "code",
   "execution_count": null,
   "metadata": {},
   "outputs": [],
   "source": [
    "# Pooled date folders across three sites\n",
    "# step1 (pooled)/\n",
    "# ├── UW_Eidon_20240106-20240117/\n",
    "# ├── UAB_Eidon_20240106-20240117/\n",
    "# └── UCSD_Eidon_20240106-20240117/\n",
    "#     ├── file1.dcm\n",
    "#     ├── file2.dcm\n",
    "#     └── ... (additional DICOM files)\n",
    "\n",
    "\n",
    "# => eidon_instance.organize =>\n",
    "\n",
    "\n",
    "# DICOM files orangnized by protocols 6 subfolders\n",
    "# step2/\n",
    "# ├── eidon_mosaic_cfp/\n",
    "# ├── eidon_uwf_central_cfp/\n",
    "# ├── eidon_uwf_central_faf/\n",
    "# ├── eidon_uwf_central_ir/\n",
    "# ├── eidon_uwf_nasal_cfp/\n",
    "# ├── eidon_uwf_temporal_cfp/\n",
    "# └── no_rules_apply/\n",
    "#     ├── file1.dcm\n",
    "#     ├── file2.dcm\n",
    "#     └── ... (additional DICOM files)\n",
    "\n",
    "#  => eidon_instance.convert =>\n",
    "\n",
    "# DICOM files are formatted to be NEMA compliant, still organized by protocols\n",
    "# step3/\n",
    "# ├── eidon_mosaic_cfp/\n",
    "# ├── eidon_uwf_central_cfp/\n",
    "# ├── eidon_uwf_central_faf/\n",
    "# ├── eidon_uwf_central_ir/\n",
    "# ├── eidon_uwf_nasal_cfp/\n",
    "# └─── eidon_uwf_temporal_cfp/\n",
    "#     ├── file1.dcm\n",
    "#     ├── file2.dcm\n",
    "#     └── ... (additional DICOM files)\n",
    "\n",
    "#  => imaging_utils.format_file => (this process is univeral to all images, not eidon specific)\n",
    "\n",
    "# De-identified again, file renamed, and organized in a final structure for data relase\n",
    "# retinal_photography/\n",
    "# ├── imaging/\n",
    "# │   ├── cfp/\n",
    "# │   │   ├── icare_eidon\n",
    "# │   ├── faf/\n",
    "# │   │   ├── icare_eidon\n",
    "# │   ├── ir/\n",
    "# │   │   ├── icare_eidon\n",
    "# │   │   │   ├── 1001\n",
    "# │   │   │   ├── 1002\n",
    "# │   │   │   ├── 1003\n",
    "# │   └── └── └── └── file1.dcm\n",
    "# │   └── └── └── └── file2.dcm"
   ]
  },
  {
   "cell_type": "markdown",
   "metadata": {},
   "source": [
    "# Eidon instance"
   ]
  },
  {
   "cell_type": "code",
   "execution_count": null,
   "metadata": {},
   "outputs": [],
   "source": [
    "from imaging_eidon_retinal_photography_root import Eidon\n",
    "\n",
    "eidon_instance = Eidon()"
   ]
  },
  {
   "cell_type": "markdown",
   "metadata": {},
   "source": [
    "# Organize Eidon files by protocol\n"
   ]
  },
  {
   "cell_type": "code",
   "execution_count": null,
   "metadata": {},
   "outputs": [],
   "source": [
    "batch_folder = \".../pipeline_imaging/datafolder/step1/UW_Eidon_20240106-20240117\"\n",
    "filtered_list = imaging_utils.get_filtered_file_names(batch_folder)\n",
    "\n",
    "output_folder = \".../pipeline_imaging/datafolder/step2\"\n",
    "\n",
    "for file in filtered_list:\n",
    "    organize_result = eidon_instance.organize(file, output_folder)"
   ]
  },
  {
   "cell_type": "markdown",
   "metadata": {},
   "source": [
    "# Convert DICOM files to NEMA compliant DICOM files"
   ]
  },
  {
   "cell_type": "code",
   "execution_count": null,
   "metadata": {},
   "outputs": [],
   "source": [
    "# These are fixed options for protocols\n",
    "protocols = [\n",
    "    \"eidon_mosaic_cfp\",\n",
    "    \"eidon_uwf_central_cfp\",\n",
    "    \"eidon_uwf_central_faf\",\n",
    "    \"eidon_uwf_central_ir\",\n",
    "    \"eidon_uwf_nasal_cfp\",\n",
    "    \"eidon_uwf_temporal_cfp\",\n",
    "]\n",
    "\n",
    "for protocol in protocols:\n",
    "    output = f\".../pipeline_imaging/datafolder/step3/{protocol}\"\n",
    "    if not os.path.exists(output):\n",
    "        os.makedirs(output)\n",
    "\n",
    "    files = imaging_utils.get_filtered_file_names(\n",
    "        f\".../pipeline_imaging/datafolder/step2/{protocol}\"\n",
    "    )\n",
    "\n",
    "    for file in files:\n",
    "        eidon_instance.convert(file, output)"
   ]
  },
  {
   "cell_type": "markdown",
   "metadata": {},
   "source": [
    "# Files are de-identified again, file renamed, and organized in a final structure for data relase"
   ]
  },
  {
   "cell_type": "code",
   "execution_count": null,
   "metadata": {},
   "outputs": [],
   "source": [
    "test = \".../pipeline_imaging/datafolder/step3\"\n",
    "device_list = [test]\n",
    "destination_folder = \".../pipeline_imaging/datafolder/step4\"\n",
    "\n",
    "\n",
    "for folder in device_list:\n",
    "    filelist = imaging_utils.get_filtered_file_names(folder)\n",
    "\n",
    "    for file in filelist:\n",
    "        imaging_utils.format_file(file, destination_folder)"
   ]
  }
 ],
 "metadata": {
  "kernelspec": {
   "display_name": ".myvenv",
   "language": "python",
   "name": "python3"
  },
  "language_info": {
   "codemirror_mode": {
    "name": "ipython",
    "version": 3
   },
   "file_extension": ".py",
   "mimetype": "text/x-python",
   "name": "python",
   "nbconvert_exporter": "python",
   "pygments_lexer": "ipython3",
   "version": "3.12.2"
  }
 },
 "nbformat": 4,
 "nbformat_minor": 2
}
