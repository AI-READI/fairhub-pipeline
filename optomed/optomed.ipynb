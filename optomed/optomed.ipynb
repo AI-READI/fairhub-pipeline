{
 "cells": [
  {
   "cell_type": "markdown",
   "metadata": {},
   "source": [
    "# Pipeline"
   ]
  },
  {
   "cell_type": "code",
   "execution_count": 1,
   "metadata": {},
   "outputs": [],
   "source": [
    "import sys\n",
    "\n",
    "sys.path.append(\"/.../pipeline_imaging/imaging\")"
   ]
  },
  {
   "cell_type": "code",
   "execution_count": 2,
   "metadata": {},
   "outputs": [],
   "source": [
    "import imaging_utils\n",
    "import os"
   ]
  },
  {
   "cell_type": "markdown",
   "metadata": {},
   "source": [
    "#  Folder structures"
   ]
  },
  {
   "cell_type": "code",
   "execution_count": 3,
   "metadata": {},
   "outputs": [],
   "source": [
    "# Pooled date folders across three sites\n",
    "# step1 (pooled)/\n",
    "# └── Optomed/\n",
    "#     ├── UAB_Optomed_20240701-20240731\n",
    "#     ├── UCSD_Optomed_20240701-20240731\n",
    "#     └── UW_Optomed_20240708-20240716\n",
    "#         ├── AIREADI-1353_2.25.297362505978695678901027013029982164657.dcm\n",
    "#         ├── AIREADI-1353_2.25.297362505978695678901027013029982164659.dcm\n",
    "#         └── ... (additional DICOM files)\n",
    "\n",
    "# => optomed.organize =>\n",
    "\n",
    "\n",
    "# DICOM files orangnized by protocols 6 subfolders\n",
    "# step2/\n",
    "# └── Optomed/\n",
    "#     ├── non_functional_dicom\n",
    "#     ├── missing_critical_information\n",
    "#     └── optomed_mac_or_disk_centered_cfp\n",
    "#         ├── optomed_mac_or_disk_centered_cfp_4001_2.25.2149858204032225975324541441048371422686.dcm\n",
    "#         ├── optomed_mac_or_disk_centered_cfp_7003_2.25.2261269346246836445793863579426017981374.dcm\n",
    "#         └── ... (additional DICOM files)\n",
    "\n",
    "#  => eidon_instance.convert =>\n",
    "\n",
    "# DICOM files are formatted to be NEMA compliant, still organized by protocols\n",
    "# step3/\n",
    "# └─── Optomed/\n",
    "#     └── optomed_mac_or_disk_centered_cfp\n",
    "#         ├── converted_optomed_mac_or_disk_centered_cfp_7001_2.25.2178672832739095022877980387739000898349.dcm\n",
    "#         ├── converted_optomed_mac_or_disk_centered_cfp_7003_2.25.2261269346246836445793863579426017981374.dcm\n",
    "#         └── ... (additional DICOM files)\n",
    "\n",
    "\n",
    "#  => imaging_utils.format_file => (this process is univeral to all images, not eidon specific)\n",
    "#  => optomed_instance.metadata =>\n",
    "\n",
    "# De-identified again, file renamed, and organized in a final structure for data relase\n",
    "# step4/\n",
    "#   └─── Optomed/\n",
    "#      retinal_photography/\n",
    "#      ├── imaging/\n",
    "#      │   ├──cfp/\n",
    "#      │   │   ├── optomed_aurora\n",
    "#      │   │   │   ├── 1001\n",
    "#      │   │   │   ├── 1002\n",
    "#      │   │   │   ├── 1003\n",
    "#      │   └── └── └── └── file1.dcm\n",
    "#      │   └── └── └── └── file2.dcm\n",
    "\n",
    "\n",
    "# step_metadata/\n",
    "#   └─── Optomed/\n",
    "#         ├── retinal_photography/\n",
    "#              ├── filename1.json\n",
    "#              ├── filename2.json\n",
    "#              ├── filename3.json\n",
    "#              └── ... (additional JSON files)"
   ]
  },
  {
   "cell_type": "markdown",
   "metadata": {},
   "source": [
    "# Optomed instance"
   ]
  },
  {
   "cell_type": "code",
   "execution_count": null,
   "metadata": {},
   "outputs": [],
   "source": [
    "from imaging_optomed_retinal_photography_root import Optomed\n",
    "\n",
    "optomed_instance = Optomed()"
   ]
  },
  {
   "cell_type": "code",
   "execution_count": 11,
   "metadata": {},
   "outputs": [],
   "source": [
    "device = \"Optomed\"\n",
    "\n",
    "main = f\"/Volumes\"\n",
    "\n",
    "step1 = f\"{main}/{device}\"\n",
    "step2 = f\"{main}/step2/{device}\"\n",
    "step3 = f\"{main}/step3/{device}\"\n",
    "step4 = f\"{main}/step4/{device}\"\n",
    "step_metadata = f\"{main}/metadata\""
   ]
  },
  {
   "cell_type": "markdown",
   "metadata": {},
   "source": [
    "# Organize Optomed files by protocol\n"
   ]
  },
  {
   "cell_type": "code",
   "execution_count": 6,
   "metadata": {},
   "outputs": [],
   "source": [
    "folders = imaging_utils.list_subfolders(step1)\n",
    "\n",
    "for batch_folder in folders:\n",
    "    filtered_list = imaging_utils.get_filtered_file_names(batch_folder)\n",
    "\n",
    "    for file in filtered_list:\n",
    "        organize_result = optomed_instance.organize(file, step2)"
   ]
  },
  {
   "cell_type": "markdown",
   "metadata": {},
   "source": [
    "# Convert DICOM files to NEMA compliant DICOM files"
   ]
  },
  {
   "cell_type": "code",
   "execution_count": 7,
   "metadata": {},
   "outputs": [],
   "source": [
    "# These are fixed options for protocols\n",
    "protocols = [\"optomed_mac_or_disk_centered_cfp\"]\n",
    "\n",
    "for protocol in protocols:\n",
    "    output = f\"{step3}/{protocol}\"\n",
    "    if not os.path.exists(output):\n",
    "        os.makedirs(output)\n",
    "\n",
    "    files = imaging_utils.get_filtered_file_names(f\"{step2}/{protocol}\")\n",
    "\n",
    "    for file in files:\n",
    "        optomed_instance.convert(file, output)"
   ]
  },
  {
   "cell_type": "markdown",
   "metadata": {},
   "source": [
    "# Files are de-identified again, file renamed, and organized in a final structure for data relase+ output metadata"
   ]
  },
  {
   "cell_type": "code",
   "execution_count": 13,
   "metadata": {},
   "outputs": [],
   "source": [
    "for folder in [step3]:\n",
    "    filelist = imaging_utils.get_filtered_file_names(folder)\n",
    "\n",
    "    for file in filelist:\n",
    "        full_file_path = imaging_utils.format_file(file, step4)\n",
    "        optomed_instance.metadata(full_file_path, f\"{step_metadata}/{device}\")"
   ]
  },
  {
   "cell_type": "code",
   "execution_count": null,
   "metadata": {},
   "outputs": [],
   "source": []
  },
  {
   "cell_type": "code",
   "execution_count": null,
   "metadata": {},
   "outputs": [],
   "source": []
  },
  {
   "cell_type": "code",
   "execution_count": null,
   "metadata": {},
   "outputs": [],
   "source": []
  },
  {
   "cell_type": "code",
   "execution_count": null,
   "metadata": {},
   "outputs": [],
   "source": []
  },
  {
   "cell_type": "code",
   "execution_count": null,
   "metadata": {},
   "outputs": [],
   "source": []
  }
 ],
 "metadata": {
  "kernelspec": {
   "display_name": ".myvenv",
   "language": "python",
   "name": "python3"
  },
  "language_info": {
   "codemirror_mode": {
    "name": "ipython",
    "version": 3
   },
   "file_extension": ".py",
   "mimetype": "text/x-python",
   "name": "python",
   "nbconvert_exporter": "python",
   "pygments_lexer": "ipython3",
   "version": "3.12.2"
  }
 },
 "nbformat": 4,
 "nbformat_minor": 2
}
