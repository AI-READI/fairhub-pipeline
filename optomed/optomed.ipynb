{
 "cells": [
  {
   "cell_type": "markdown",
   "metadata": {},
   "source": [
    "# Pipeline"
   ]
  },
  {
   "cell_type": "code",
   "metadata": {
    "ExecuteTime": {
     "end_time": "2024-08-30T17:31:57.387007Z",
     "start_time": "2024-08-30T17:31:57.224919Z"
    }
   },
   "source": [
    "import imaging_utils\n",
    "import os"
   ],
   "outputs": [
    {
     "ename": "ModuleNotFoundError",
     "evalue": "No module named 'imaging_utils'",
     "output_type": "error",
     "traceback": [
      "\u001B[0;31m---------------------------------------------------------------------------\u001B[0m",
      "\u001B[0;31mModuleNotFoundError\u001B[0m                       Traceback (most recent call last)",
      "Cell \u001B[0;32mIn[1], line 1\u001B[0m\n\u001B[0;32m----> 1\u001B[0m \u001B[38;5;28;01mimport\u001B[39;00m \u001B[38;5;21;01mimaging_utils\u001B[39;00m\n\u001B[1;32m      2\u001B[0m \u001B[38;5;28;01mimport\u001B[39;00m \u001B[38;5;21;01mos\u001B[39;00m\n",
      "\u001B[0;31mModuleNotFoundError\u001B[0m: No module named 'imaging_utils'"
     ]
    }
   ],
   "execution_count": 1
  },
  {
   "cell_type": "code",
   "metadata": {},
   "source": [
    "import sys\n",
    "\n",
    "\n",
    "sys.path.append(\".../pipeline_imaging/imaging\")  #'/path/to/your/project'"
   ],
   "outputs": [],
   "execution_count": null
  },
  {
   "cell_type": "markdown",
   "metadata": {},
   "source": [
    "#  Folder structures"
   ]
  },
  {
   "cell_type": "code",
   "metadata": {},
   "source": [
    "# Pooled date folders across three sites\n",
    "# step1 (pooled)/\n",
    "# └── Optomed/\n",
    "#     ├── UAB_Optomed_20240701-20240731\n",
    "#     ├── UCSD_Optomed_20240701-20240731\n",
    "#     └── UW_Optomed_20240708-20240716\n",
    "#         ├── AIREADI-1353_2.25.297362505978695678901027013029982164657.dcm\n",
    "#         ├── AIREADI-1353_2.25.297362505978695678901027013029982164659.dcm\n",
    "#         └── ... (additional DICOM files)\n",
    "\n",
    "# => optomed.organize =>\n",
    "\n",
    "\n",
    "# DICOM files orangnized by protocols 6 subfolders\n",
    "# step2/\n",
    "# └── Optomed/\n",
    "#     ├── non_functional_dicom\n",
    "#     ├── missing_critical_information\n",
    "#     └── optomed_mac_or_disk_centered_cfp\n",
    "#         ├── optomed_mac_or_disk_centered_cfp_4001_2.25.2149858204032225975324541441048371422686.dcm\n",
    "#         ├── optomed_mac_or_disk_centered_cfp_7003_2.25.2261269346246836445793863579426017981374.dcm\n",
    "#         └── ... (additional DICOM files)\n",
    "\n",
    "#  => eidon_instance.convert =>\n",
    "\n",
    "# DICOM files are formatted to be NEMA compliant, still organized by protocols\n",
    "# step3/\n",
    "# └─── Optomed/\n",
    "#     └── optomed_mac_or_disk_centered_cfp\n",
    "#         ├── converted_optomed_mac_or_disk_centered_cfp_7001_2.25.2178672832739095022877980387739000898349.dcm\n",
    "#         ├── converted_optomed_mac_or_disk_centered_cfp_7003_2.25.2261269346246836445793863579426017981374.dcm\n",
    "#         └── ... (additional DICOM files)\n",
    "\n",
    "\n",
    "#  => imaging_utils.format_file => (this process is univeral to all images, not eidon specific)\n",
    "\n",
    "# De-identified again, file renamed, and organized in a final structure for data relase\n",
    "# retinal_photography/\n",
    "# ├── imaging/\n",
    "# │   ├──cfp/\n",
    "# │   │   ├── optomed_aurora\n",
    "# │   │   │   ├── 1001\n",
    "# │   │   │   ├── 1002\n",
    "# │   │   │   ├── 1003\n",
    "# │   └── └── └── └── file1.dcm\n",
    "# │   └── └── └── └── file2.dcm"
   ],
   "outputs": [],
   "execution_count": null
  },
  {
   "cell_type": "markdown",
   "metadata": {},
   "source": "# Optomed instance"
  },
  {
   "cell_type": "code",
   "metadata": {},
   "source": [
    "from imaging_optomed_retinal_photography_root import Optomed\n",
    "\n",
    "optomed_instance = Optomed()"
   ],
   "outputs": [],
   "execution_count": null
  },
  {
   "cell_type": "markdown",
   "metadata": {},
   "source": "# Organize Optomed files by protocol"
  },
  {
   "cell_type": "code",
   "metadata": {},
   "source": [
    "batch_folder = (\n",
    "    \".../pipeline_imaging/datafolder/step1/Optomed/UCSD_Optomed_20240701-20240731\"\n",
    ")\n",
    "filtered_list = imaging_utils.get_filtered_file_names(batch_folder)\n",
    "\n",
    "\n",
    "output_folder = \".../pipeline_imaging/datafolder/step2/Optomed\"\n",
    "for file in filtered_list:\n",
    "    organize_result = optomed_instance.organize(file, output_folder)"
   ],
   "outputs": [],
   "execution_count": null
  },
  {
   "cell_type": "markdown",
   "metadata": {},
   "source": [
    "# Convert DICOM files to NEMA compliant DICOM files"
   ]
  },
  {
   "cell_type": "code",
   "metadata": {},
   "source": [
    "# These are fixed options for protocols\n",
    "protocols = [\"optomed_mac_or_disk_centered_cfp\"]\n",
    "\n",
    "for protocol in protocols:\n",
    "    output = f\".../pipeline_imaging/datafolder/step3/Optomed/{protocol}\"\n",
    "    if not os.path.exists(output):\n",
    "        os.makedirs(output)\n",
    "\n",
    "    files = imaging_utils.get_filtered_file_names(\n",
    "        f\".../pipeline_imaging/datafolder/step2/Optomed/{protocol}\"\n",
    "    )\n",
    "\n",
    "    for file in files:\n",
    "        optomed_instance.convert(file, output)"
   ],
   "outputs": [],
   "execution_count": null
  },
  {
   "cell_type": "markdown",
   "metadata": {},
   "source": [
    "# Files are de-identified again, file renamed, and organized in a final structure for data relase"
   ]
  },
  {
   "cell_type": "code",
   "metadata": {},
   "source": [
    "test = \".../pipeline_imaging/datafolder/step3/Optomed\"\n",
    "device_list = [test]\n",
    "destination_folder = \".../pipeline_imaging/datafolder/step4/Optomed\"\n",
    "\n",
    "for folder in device_list:\n",
    "    filelist = imaging_utils.get_filtered_file_names(folder)\n",
    "\n",
    "    for file in filelist:\n",
    "        imaging_utils.format_file(file, destination_folder)"
   ],
   "outputs": [],
   "execution_count": null
  }
 ],
 "metadata": {
  "kernelspec": {
   "display_name": ".myvenv",
   "language": "python",
   "name": "python3"
  },
  "language_info": {
   "codemirror_mode": {
    "name": "ipython",
    "version": 3
   },
   "file_extension": ".py",
   "mimetype": "text/x-python",
   "name": "python",
   "nbconvert_exporter": "python",
   "pygments_lexer": "ipython3",
   "version": "3.12.2"
  }
 },
 "nbformat": 4,
 "nbformat_minor": 2
}
