{
 "cells": [
  {
   "cell_type": "code",
   "execution_count": 4,
   "metadata": {},
   "outputs": [],
   "source": [
    "import sys\n",
    "\n",
    "sys.path.append(\"/Users/nayoonkim/pipeline_imaging/imaging\")\n",
    "\n",
    "import organize_imaging_utils"
   ]
  },
  {
   "cell_type": "code",
   "execution_count": 5,
   "metadata": {},
   "outputs": [],
   "source": [
    "# # folder structure:\n",
    "\n",
    "# Input->\n",
    "# /stage-1-container/AI-READI\n",
    "\n",
    "# /pilot-imaging\n",
    "#      ├── Optomed-processed\n",
    "#      ├── Eidon-processed\n",
    "#      ├── Spectralis-processed\n",
    "#      ├── Maestro2-processed\n",
    "#      ├── Triton-processed\n",
    "#      ├── Cirrus-processed\n",
    "#      ├── Flio-processed\n",
    "#      ├── Optomed-metadata\n",
    "#      ├── Eidon-metadata\n",
    "#      ├── Spectralis-metadata\n",
    "#      ├── Maestro2-metadata\n",
    "#      ├── Triton-metadata\n",
    "#      ├── Cirrus-metadata\n",
    "#      ├── Flio-metadata\n",
    "\n",
    "\n",
    "# /pooled-data\n",
    "#      ├── Optomed-processed\n",
    "#      ├── Eidon-processed\n",
    "#      ├── Spectralis-processed\n",
    "#      ├── Maestro2-processed\n",
    "#      ├── Triton-processed\n",
    "#      ├── Cirrus-processed\n",
    "#      ├── Flio-processed\n",
    "#      ├── Optomed-metadata\n",
    "#      ├── Eidon-metadata\n",
    "#      ├── Spectralis-metadata\n",
    "#      ├── Maestro2-metadata\n",
    "#      ├── Triton-metadata\n",
    "#      ├── Cirrus-metadata\n",
    "#      ├── Flio-metadata\n",
    "\n",
    "\n",
    "# Output->\n",
    "# /stage-1-container/AI-READI\n",
    "# /completed\n",
    "#      ├──imaging\n",
    "#      ├──imaging-metadata"
   ]
  },
  {
   "cell_type": "markdown",
   "metadata": {},
   "source": [
    "## Organize all the imaging data to \".../stage-1-container/AI-READI/completed/imaging\" (patient_id filtering and removal of some images)"
   ]
  },
  {
   "cell_type": "code",
   "execution_count": null,
   "metadata": {},
   "outputs": [],
   "source": [
    "# oraganize data\n",
    "\n",
    "patient_ids = \".../stage-1-container/AI-READI/pilot-imaging/All Participant IDs 07-01-2023 through 07-31-2024.csv\"\n",
    "\n",
    "source_folders = [\n",
    "    \".../stage-1-container/AI-READI/pilot-imaging/Optomed-processed\",\n",
    "    \".../stage-1-container/AI-READI/pilot-imaging/Eidon-processed\",\n",
    "    \".../stage-1-container/AI-READI/pilot-imaging/Spectralis-processed\",\n",
    "    \".../stage-1-container/AI-READI/pilot-imaging/Maestro2-processed\",\n",
    "    \".../stage-1-container/AI-READI/pilot-imaging/Triton-processed\",\n",
    "    \".../stage-1-container/AI-READI/pilot-imaging/Cirrus-processed\",\n",
    "    \".../stage-1-container/AI-READI/pilot-imaging/Flio-processed\",\n",
    "    \".../stage-1-container/AI-READI/pooled-data/Optomed-processed\",\n",
    "    \".../stage-1-container/AI-READI/pooled-data/Eidon-processed\",\n",
    "    \".../stage-1-container/AI-READI/pooled-data/Spectralis-processed\",\n",
    "    \".../stage-1-container/AI-READI/pooled-data/Maestro2-processed\",\n",
    "    \".../stage-1-container/AI-READI/pooled-data/Triton-processed\",\n",
    "    \".../stage-1-container/AI-READI/pooled-data/Cirrus-processed\",\n",
    "    \".../stage-1-container/AI-READI/pooled-data/Flio-processed\",\n",
    "]\n",
    "target_folder = \".../stage-1-container/AI-READI/completed/imaging\"\n",
    "remove_txt = \".../stage-1-container/AI-READI/pilot-imaging/ignore_post_processing_2024_09_24_22_3344.txt\"\n",
    "\n",
    "organize_imaging_utils.merge_folders_filter_id_files(\n",
    "    patient_ids, source_folders, target_folder, remove_txt\n",
    ")"
   ]
  },
  {
   "cell_type": "markdown",
   "metadata": {},
   "source": [
    "## Organize all the imaging metadata to \".../stage-1-container/AI-READI/completed/imaging\" (patient_id filtering and removal of some images)"
   ]
  },
  {
   "cell_type": "code",
   "execution_count": null,
   "metadata": {},
   "outputs": [],
   "source": [
    "# oraganize data\n",
    "\n",
    "patient_ids = \".../stage-1-container/AI-READI/pilot-imaging/All Participant IDs 07-01-2023 through 07-31-2024.csv\"\n",
    "\n",
    "source_folders = [\n",
    "    \".../stage-1-container/AI-READI/pilot-imaging/Optomed-metadata\",\n",
    "    \".../stage-1-container/AI-READI/pilot-imaging/Eidon-metadata\",\n",
    "    \".../stage-1-container/AI-READI/pilot-imaging/Spectralis-metadata\",\n",
    "    \".../stage-1-container/AI-READI/pilot-imaging/Maestro2-metadata\",\n",
    "    \".../stage-1-container/AI-READI/pilot-imaging/Triton-metadata\",\n",
    "    \".../stage-1-container/AI-READI/pilot-imaging/Cirrus-metadata\",\n",
    "    \".../stage-1-container/AI-READI/pilot-imaging/Flio-metadata\",\n",
    "    \".../stage-1-container/AI-READI/pooled-data/Optomed-metadata\",\n",
    "    \".../stage-1-container/AI-READI/pooled-data/Eidon-metadata\",\n",
    "    \".../stage-1-container/AI-READI/pooled-data/Spectralis-metadata\",\n",
    "    \".../stage-1-container/AI-READI/pooled-data/Maestro2-metadata\",\n",
    "    \".../stage-1-container/AI-READI/pooled-data/Triton-metadata\",\n",
    "    \".../stage-1-container/AI-READI/pooled-data/Cirrus-metadata\",\n",
    "    \".../stage-1-container/AI-READI/pooled-data/Flio-metadata\",\n",
    "]\n",
    "target_folder = \".../stage-1-container/AI-READI/completed/imaging-metadata\"\n",
    "remove_txt = \".../stage-1-container/AI-READI/pilot-imaging/ignore_post_processing_2024_09_24_22_3344.txt\"\n",
    "\n",
    "organize_imaging_utils.merge_folders_filter_id_files(\n",
    "    patient_ids, source_folders, target_folder, remove_txt\n",
    ")"
   ]
  }
 ],
 "metadata": {
  "kernelspec": {
   "display_name": ".env",
   "language": "python",
   "name": "python3"
  },
  "language_info": {
   "codemirror_mode": {
    "name": "ipython",
    "version": 3
   },
   "file_extension": ".py",
   "mimetype": "text/x-python",
   "name": "python",
   "nbconvert_exporter": "python",
   "pygments_lexer": "ipython3",
   "version": "3.12.2"
  }
 },
 "nbformat": 4,
 "nbformat_minor": 2
}
