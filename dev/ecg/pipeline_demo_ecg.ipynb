{
 "cells": [
  {
   "cell_type": "markdown",
   "id": "ee6f96d7-6b44-4bcd-9748-5c5bf9c1cbe4",
   "metadata": {},
   "source": [
    "# pipeline_demo_ecg\n",
    "\n",
    "Script to demonstrate how the pipeline tools might use the ECG conversion on one file."
   ]
  },
  {
   "cell_type": "code",
   "execution_count": null,
   "id": "1472c01b-678b-4de4-8a04-f94b4d40f5a6",
   "metadata": {},
   "outputs": [],
   "source": [
    "def add_to_path(newpath):\n",
    "    current_syspath = sys.path\n",
    "    if newpath not in current_syspath:\n",
    "        print(f'Adding to path: {newpath}')\n",
    "        sys.path.append(newpath)\n",
    "    else:\n",
    "        print(f'Already in sys.path so not appending: {newpath}')"
   ]
  },
  {
   "cell_type": "code",
   "execution_count": null,
   "id": "02cd9bf6-ffbb-4c6c-8846-d0a477eb665f",
   "metadata": {},
   "outputs": [],
   "source": [
    "import sys\n",
    "#print(f'Before: {sys.path}\\n')\n",
    "add_to_path(\"/Users/jshaffer/Documents/Github/uw-medical-ml/standards_leelab/\")\n",
    "add_to_path(\"/Users/jshaffer/Documents/Github/uw-medical-ml/standards_leelab/converter\")\n",
    "#print(f'\\nAfter: {sys.path}')"
   ]
  },
  {
   "cell_type": "code",
   "execution_count": null,
   "id": "acd0e6c2-4652-4778-91ea-a38fa507abda",
   "metadata": {},
   "outputs": [],
   "source": [
    "import glob\n",
    "from datetime import datetime\n",
    "\n",
    "from converter import ecg as ecg"
   ]
  },
  {
   "cell_type": "code",
   "execution_count": null,
   "id": "ab062ca6-098b-4a65-900c-0a216f56d2bf",
   "metadata": {},
   "outputs": [],
   "source": [
    "start_time = datetime.now()"
   ]
  },
  {
   "cell_type": "markdown",
   "id": "a3e1e5b3-5d65-4cd0-b4a9-d312671fe6e3",
   "metadata": {},
   "source": [
    "# Select input file, output folder, and temporary workspace"
   ]
  },
  {
   "cell_type": "code",
   "execution_count": null,
   "id": "79325c49-2286-414e-9363-8f512f9ffef8",
   "metadata": {},
   "outputs": [],
   "source": [
    "ecg_path = '/Users/jshaffer/Documents/UW_Lee_Lab/AI_READi/ai_readi_gold/ecg/raw/ECG-1001.xml'\n",
    "temp_path = '/Users/jshaffer/Documents/scratch'  # an intermediate *.csv file will be created here and then read back in\n",
    "wfdb_path = '/Users/jshaffer/Documents/scratch'  # final *.hea and *.dat will be created"
   ]
  },
  {
   "cell_type": "markdown",
   "id": "7928d4ac-a702-4488-a9a7-03d177e8b185",
   "metadata": {},
   "source": [
    "# 1. Convert XML to .hea and .dat"
   ]
  },
  {
   "cell_type": "code",
   "execution_count": null,
   "id": "b9069c8d-dfa7-4d47-be43-dd1c961e12ba",
   "metadata": {},
   "outputs": [],
   "source": [
    "xecg = ecg.ECG()  # no state is stored; just gives us access to convert() and metadata()"
   ]
  },
  {
   "cell_type": "code",
   "execution_count": null,
   "id": "15ef350b-0dd5-4134-9fe7-5229461e8592",
   "metadata": {},
   "outputs": [],
   "source": [
    "conv_retval_dict = xecg.convert(ecg_path, temp_path, wfdb_path)"
   ]
  },
  {
   "cell_type": "code",
   "execution_count": null,
   "id": "f8eefe6b-3789-46bb-ae23-d608f42d4123",
   "metadata": {},
   "outputs": [],
   "source": [
    "print(conv_retval_dict)\n",
    "print()\n",
    "\n",
    "for k,v in conv_retval_dict.items():\n",
    "    print(f'{k}\\t........{v}')"
   ]
  },
  {
   "cell_type": "code",
   "execution_count": null,
   "id": "c8fcedcc-529f-4085-a545-9307d521b81e",
   "metadata": {},
   "outputs": [],
   "source": [
    "!ls {temp_path}"
   ]
  },
  {
   "cell_type": "code",
   "execution_count": null,
   "id": "b66705a6-c51e-4986-ba2f-0e4ec5e779fe",
   "metadata": {},
   "outputs": [],
   "source": [
    "!ls {wfdb_path}"
   ]
  },
  {
   "cell_type": "markdown",
   "id": "6787307c-5271-483a-ada1-c9491012db5c",
   "metadata": {},
   "source": [
    "# 2. Plot for visual inspection\n",
    "\n",
    "Plot will be saved at temp_path/*.png and should be placed in a location where it can be reviewed but will not be released with the data."
   ]
  },
  {
   "cell_type": "code",
   "execution_count": null,
   "id": "aaca56cf-1dcb-47c8-9604-ce8524ae2dab",
   "metadata": {},
   "outputs": [],
   "source": [
    "dataplot_retval_dict = xecg.dataplot(conv_retval_dict, temp_path)"
   ]
  },
  {
   "cell_type": "code",
   "execution_count": null,
   "id": "345241fb-9bc4-4132-b1a6-0c8f175a4915",
   "metadata": {},
   "outputs": [],
   "source": [
    "print(dataplot_retval_dict)"
   ]
  },
  {
   "cell_type": "markdown",
   "id": "9a879822-ab64-448e-9529-7172cabc6281",
   "metadata": {},
   "source": [
    "# 3. Extract meta_data\n",
    "\n",
    "This will be used just before we release all data and create the manifest for available data. It may be good to run it as part of the pipeline just to make sure it will not be a problem at the last minute."
   ]
  },
  {
   "cell_type": "code",
   "execution_count": null,
   "id": "0c49497e-00b9-48fb-8e36-83dcbff63513",
   "metadata": {},
   "outputs": [],
   "source": [
    "hea_list = sorted(glob.glob(f'{wfdb_path}/*.hea'))\n",
    "print(f'found {len(hea_list)} hea files')\n",
    "\n",
    "hea = hea_list[0]\n",
    "print(f'first hea file is {hea}')"
   ]
  },
  {
   "cell_type": "code",
   "execution_count": null,
   "id": "54647c6f-96e1-4e83-9860-10e622bdc377",
   "metadata": {},
   "outputs": [],
   "source": [
    "this_meta = xecg.metadata(hea)"
   ]
  },
  {
   "cell_type": "code",
   "execution_count": null,
   "id": "7fa91469-863b-4320-a08d-0455eed3a33d",
   "metadata": {},
   "outputs": [],
   "source": [
    "print(this_meta)"
   ]
  },
  {
   "cell_type": "code",
   "execution_count": null,
   "id": "a24f9b2d-89fe-4896-9198-6c623fb84215",
   "metadata": {},
   "outputs": [],
   "source": [
    "for k,v in this_meta.items():\n",
    "    print(f'{k}\\t........................{v}')"
   ]
  },
  {
   "cell_type": "code",
   "execution_count": null,
   "id": "cb836e0e-0567-43b6-85f5-749fb064a6ff",
   "metadata": {},
   "outputs": [],
   "source": []
  },
  {
   "cell_type": "markdown",
   "id": "0656ce8f-8de8-463e-b47c-bf405479b65c",
   "metadata": {},
   "source": [
    "# Done"
   ]
  },
  {
   "cell_type": "code",
   "execution_count": null,
   "id": "7219ae91-46e3-4c92-8811-5241fb8d4c15",
   "metadata": {},
   "outputs": [],
   "source": [
    "end_time = datetime.now()\n",
    "elapsed_time = end_time - start_time\n",
    "print(f'Elapsed_time: {elapsed_time}')\n",
    "print('\\nDone.')"
   ]
  }
 ],
 "metadata": {
  "kernelspec": {
   "display_name": "Python 3 (ipykernel)",
   "language": "python",
   "name": "python3"
  },
  "language_info": {
   "codemirror_mode": {
    "name": "ipython",
    "version": 3
   },
   "file_extension": ".py",
   "mimetype": "text/x-python",
   "name": "python",
   "nbconvert_exporter": "python",
   "pygments_lexer": "ipython3",
   "version": "3.11.5"
  }
 },
 "nbformat": 4,
 "nbformat_minor": 5
}
