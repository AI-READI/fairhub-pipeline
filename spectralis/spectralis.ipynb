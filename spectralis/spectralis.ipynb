{
 "cells": [
  {
   "cell_type": "markdown",
   "metadata": {},
   "source": [
    "# Pipeline"
   ]
  },
  {
   "cell_type": "code",
   "execution_count": null,
   "metadata": {},
   "outputs": [],
   "source": [
    "import sys\n",
    "\n",
    "sys.path.append(\".../pipeline_imaging/imaging\")  #'/path/to/your/project'"
   ]
  },
  {
   "cell_type": "code",
   "execution_count": null,
   "metadata": {},
   "outputs": [],
   "source": [
    "import imaging_utils\n",
    "import os"
   ]
  },
  {
   "cell_type": "markdown",
   "metadata": {},
   "source": [
    "#  Folder structures"
   ]
  },
  {
   "cell_type": "code",
   "execution_count": null,
   "metadata": {},
   "outputs": [],
   "source": [
    "# Pooled date folders across three sites\n",
    "# step1 (pooled)/\n",
    "#  ├── UW_Spectralis_20240701-20240731/\n",
    "#  └── UCSD_Spectralis_20240701-20240731/\n",
    "#      └──DICOM\n",
    "#             └──MC1\n",
    "#                 └──3\n",
    "#                    ...many subfolders...\n",
    "#                    └──00000030 (this is a dicom file)\n",
    "\n",
    "# => spectralis_instance.organize =>\n",
    "\n",
    "# DICOM files orangnized by protocols 6 subfolders\n",
    "# step2/\n",
    "#  ├── no_rules_apply/\n",
    "#  ├── raw_data_storage/\n",
    "#  ├── secondary_capture/\n",
    "#  ├── spectralis_mac_20x20_hs_octa_oct/\n",
    "#  ├── spectralis_mac_20x20_hs_octa_retinal_photography/\n",
    "#  ├── spectralis_onh_rc_hr_oct/\n",
    "#  ├── spectralis_onh_rc_hr_retinal_photography/\n",
    "#  ├── spectralis_ppol_mac_hr_oct/\n",
    "#  ├── spectralis_onh_rc_hr_retinal_photography/\n",
    "#  ├── spectralis_ppol_mac_hr_oct_small/\n",
    "#  ├── spectralis_ppol_mac_hr_retinal_photography/\n",
    "#  └── spectralis_ppol_mac_hr_retinal_photography_small/\n",
    "#      ├── file1.dcm\n",
    "#      ├── file2.dcm\n",
    "#      └── ... (additional DICOM files)\n",
    "\n",
    "#  => spectralis_instance.convert =>\n",
    "\n",
    "# DICOM files are formatted to be NEMA compliant, still organized by protocols\n",
    "# step3/\n",
    "#     ├── spectralis_onh_rc_hr_oct/\n",
    "#     ├── spectralis_onh_rc_hr_retinal_photography/\n",
    "#     ├── spectralis_ppol_mac_hr_oct/\n",
    "#     ├── spectralis_onh_rc_hr_retinal_photography/\n",
    "#     ├── spectralis_ppol_mac_hr_oct_small/\n",
    "#     ├── spectralis_ppol_mac_hr_retinal_photography/\n",
    "#     └── spectralis_ppol_mac_hr_retinal_photography_small/\n",
    "#          ├── file1.dcm\n",
    "#          ├── file2.dcm\n",
    "#          └── ... (additional DICOM files)\n",
    "\n",
    "#  => imaging_utils.format_file =>\n",
    "#  => spectralis_instance.metadata =>\n",
    "\n",
    "# De-identified again, file renamed, and organized in a final structure for data relase\n",
    "# Output is saved in two places: step4/ (final data) and step_metadata/ (metadata)\n",
    "# step4/\n",
    "#    ├── retinal_photography/\n",
    "#         ├── ir/\n",
    "#              ├── heidelberg_spectralis\n",
    "#                  ├── 1001\n",
    "#                  ├── 1002\n",
    "#                  ├── 1003\n",
    "#                       └── file1.dcm\n",
    "#                       └── file2.dcm\n",
    "\n",
    "#    ├── retinal_oct/\n",
    "#         ├── structural_oct/\n",
    "#                ├── heidelberg_spectralis\n",
    "#                    ├── 1001\n",
    "#                    ├── 1002\n",
    "#                    ├── 1003\n",
    "#                         └── file1.dcm\n",
    "#                         └── file2.dcm\n",
    "\n",
    "\n",
    "# step_metadata/\n",
    "#    ├── filename1.json\n",
    "#    ├── filename2.json\n",
    "#    ├── filename3.json\n",
    "#    └── ... (additional JSON files)"
   ]
  },
  {
   "cell_type": "markdown",
   "metadata": {},
   "source": [
    "# Spectralis instance"
   ]
  },
  {
   "cell_type": "code",
   "execution_count": null,
   "metadata": {},
   "outputs": [],
   "source": [
    "from imaging_spectralis_root import Spectralis\n",
    "\n",
    "spectralis_instance = Spectralis()"
   ]
  },
  {
   "cell_type": "markdown",
   "metadata": {},
   "source": [
    "# Organize Spectralis files by protocol\n"
   ]
  },
  {
   "cell_type": "code",
   "execution_count": null,
   "metadata": {},
   "outputs": [],
   "source": [
    "# working\n",
    "\n",
    "batch_folder = \".../step1/UW_Spectralis_20240708-20240716\"\n",
    "output_folder = \".../step2\"\n",
    "\n",
    "filtered_list = imaging_utils.spectralis_get_filtered_file_names(batch_folder)\n",
    "\n",
    "\n",
    "for file in filtered_list:\n",
    "    organize_result = spectralis_instance.organize(file, output_folder)"
   ]
  },
  {
   "cell_type": "markdown",
   "metadata": {},
   "source": [
    "# Convert DICOM files to NEMA compliant DICOM files"
   ]
  },
  {
   "cell_type": "code",
   "execution_count": null,
   "metadata": {},
   "outputs": [],
   "source": [
    "# These are fixed options for protocols\n",
    "protocols = [\n",
    "    \"spectralis_onh_rc_hr_oct\",\n",
    "    \"spectralis_onh_rc_hr_retinal_photography\",\n",
    "    \"spectralis_ppol_mac_hr_oct\",\n",
    "    \"spectralis_ppol_mac_hr_oct_small\",\n",
    "    \"spectralis_ppol_mac_hr_retinal_photography\",\n",
    "    \"spectralis_ppol_mac_hr_retinal_photography_small\",\n",
    "]\n",
    "\n",
    "for protocol in protocols:\n",
    "    output = f\".../step3/{protocol}\"\n",
    "    if not os.path.exists(output):\n",
    "        os.makedirs(output)\n",
    "\n",
    "    files = imaging_utils.get_filtered_file_names(f\".../step2/{protocol}\")\n",
    "\n",
    "    for file in files:\n",
    "        spectralis_instance.convert(file, output)"
   ]
  },
  {
   "cell_type": "markdown",
   "metadata": {},
   "source": [
    "# (1) Files are de-identified again, file renamed, and organized in a final structure for data relase (2) Save Metadata for Manifest in json files "
   ]
  },
  {
   "cell_type": "code",
   "execution_count": null,
   "metadata": {},
   "outputs": [],
   "source": [
    "input_folder = \".../step3\"\n",
    "output_folder = \".../step4\"\n",
    "metadata_folder = \".../step_metadata\"\n",
    "\n",
    "\n",
    "for folder in [input_folder]:\n",
    "    filelist = imaging_utils.get_filtered_file_names(folder)\n",
    "\n",
    "    for file in filelist:\n",
    "        full_file_path = imaging_utils.format_file(file, output_folder)\n",
    "        spectralis_instance.metadata(full_file_path, metadata_folder)"
   ]
  }
 ],
 "metadata": {
  "kernelspec": {
   "display_name": ".myvenv",
   "language": "python",
   "name": "python3"
  },
  "language_info": {
   "codemirror_mode": {
    "name": "ipython",
    "version": 3
   },
   "file_extension": ".py",
   "mimetype": "text/x-python",
   "name": "python",
   "nbconvert_exporter": "python",
   "pygments_lexer": "ipython3",
   "version": "3.12.2"
  }
 },
 "nbformat": 4,
 "nbformat_minor": 2
}
