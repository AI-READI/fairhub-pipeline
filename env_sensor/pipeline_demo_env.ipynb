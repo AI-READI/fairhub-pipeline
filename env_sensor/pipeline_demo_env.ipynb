{
 "cells": [
  {
   "cell_type": "markdown",
   "id": "f0228316-53a7-453d-8861-d6d36bd440c4",
   "metadata": {},
   "source": [
    "# pipeline_demo_env\n",
    "\n",
    "Script to demonstrate how the pipeline tools might use the Environmental Sensor conversion on one file.\n",
    "\n",
    "__REQUIRED: a *.csv file of REDCap exports__"
   ]
  },
  {
   "cell_type": "code",
   "execution_count": null,
   "id": "1816a991-5679-4b18-bb18-a8ffb2df0d81",
   "metadata": {},
   "outputs": [],
   "source": [
    "import sys"
   ]
  },
  {
   "cell_type": "code",
   "execution_count": null,
   "id": "171152ad-1326-4947-8e6a-fe8413d82381",
   "metadata": {},
   "outputs": [],
   "source": [
    "def add_to_path(newpath):\n",
    "    current_syspath = sys.path\n",
    "    if newpath not in current_syspath:\n",
    "        print(f'Adding to path: {newpath}')\n",
    "        sys.path.append(newpath)\n",
    "    else:\n",
    "        print(f'Already in sys.path so not appending: {newpath}')"
   ]
  },
  {
   "cell_type": "code",
   "execution_count": null,
   "id": "b53170d6",
   "metadata": {},
   "outputs": [],
   "source": [
    "#print(f'Before: {sys.path}\\n')\n",
    "add_to_path(\"/Users/jshaffer/Documents/Github/uw-medical-ml/standards_leelab/\")\n",
    "add_to_path(\"/Users/jshaffer/Documents/Github/uw-medical-ml/standards_leelab/converter\")\n",
    "#print(f'\\nAfter: {sys.path}')"
   ]
  },
  {
   "cell_type": "code",
   "execution_count": null,
   "id": "3f12f975-8f12-4989-98ec-47c5bdf50f6a",
   "metadata": {},
   "outputs": [],
   "source": [
    "from datetime import datetime\n",
    "from converter import es as es"
   ]
  },
  {
   "cell_type": "code",
   "execution_count": null,
   "id": "e722ebc6-f475-4727-b2b1-0fde37ff9df3",
   "metadata": {},
   "outputs": [],
   "source": [
    "time_0 = datetime.now()"
   ]
  },
  {
   "cell_type": "markdown",
   "id": "6ebb14fc-4063-4a6f-acda-e818c3622187",
   "metadata": {},
   "source": [
    "# Select input file and output folder"
   ]
  },
  {
   "cell_type": "code",
   "execution_count": null,
   "id": "5052d2cd-da14-4f81-8fdd-fdacda4883f7",
   "metadata": {},
   "outputs": [],
   "source": [
    "# example from pilot\n",
    "#raw_pilot_folder = '/Users/jshaffer/Documents/UW_Lee_Lab/AI_READi/ai_readi_gold/pdrg/raw_no_touch'\n",
    "#env_folder_path = raw_pilot_folder + '/UW_EnvSensor_nozip/ENV-1001-048'\n",
    "\n",
    "# example from main local\n",
    "# raw_main_y1_folder = '/Users/jshaffer/Documents/UW_Lee_Lab/AI_READi/main_data_process_EnvSensor'\n",
    "# env_folder_path = raw_main_y1_folder + '/UCSD_EnvSensor_20231201-20240229/ENV-4062-096'\n",
    "\n",
    "# example from main server\n",
    "raw_main_y1_folder = '/Volumes/data/jamie/bridge2ai/main_raw_temp'\n",
    "env_folder_path = raw_main_y1_folder + '/UW_EnvSensor/ENV-1101-052'\n",
    "\n",
    "# example to test failure\n",
    "#env_folder_path = '/Users/jshaffer/Documents/UW_Lee_Lab/AI_READi/main_data_process_EnvSensor/UCSD_EnvSensor_20231201-20240229/ENV-5999-001'\n",
    "\n",
    "output_folder = './demo_plots'\n",
    "\n",
    "redcap_dir = '/Users/jshaffer/Documents/UW_Lee_Lab/AI_READi/redcap_exports'\n",
    "redcap_file = redcap_dir + '/AIREADiPilot-2024Aug06_EnviroPhysSensorInfo.csv'"
   ]
  },
  {
   "cell_type": "code",
   "execution_count": null,
   "id": "3fb1d8cd-52d1-405c-a97c-4ff6b452ab0d",
   "metadata": {},
   "outputs": [],
   "source": [
    "generate_plots = True  # optional"
   ]
  },
  {
   "cell_type": "markdown",
   "id": "d88f5bf5-2c1f-4aea-8b5d-d43cdace2223",
   "metadata": {},
   "source": [
    "# Convert"
   ]
  },
  {
   "cell_type": "code",
   "execution_count": null,
   "id": "adef9cb4-fea8-425c-86cf-7f6af55b2762",
   "metadata": {},
   "outputs": [],
   "source": [
    "ES = es.EnvironmentalSensor()"
   ]
  },
  {
   "cell_type": "code",
   "execution_count": null,
   "id": "583f7950-2e49-4ffc-83c2-a8e824977eb0",
   "metadata": {},
   "outputs": [],
   "source": [
    "conversion_dict = ES.convert(env_folder_path, output_folder, visit_file=redcap_file)"
   ]
  },
  {
   "cell_type": "code",
   "execution_count": null,
   "id": "f1083688-c31a-4b46-b102-3a6dfed5c168",
   "metadata": {},
   "outputs": [],
   "source": [
    "print(f'Keys: {conversion_dict.keys()}')\n",
    "print(f'Participant ID: {conversion_dict['r']['pppp']}')\n",
    "print(f'Success: {conversion_dict['conversion_success']}')\n",
    "print(f'Output file: {conversion_dict['output_file']}')"
   ]
  },
  {
   "cell_type": "code",
   "execution_count": null,
   "id": "115b82da-83d4-4eb1-bfb4-cd7a44fad5eb",
   "metadata": {},
   "outputs": [],
   "source": [
    "if (conversion_dict['conversion_success']):\n",
    "\n",
    "    meta_dict = ES.metadata(conversion_dict['output_file'])\n",
    "\n",
    "    for k,v in meta_dict.items():\n",
    "        print(f'{k}\\t:  {v}')"
   ]
  },
  {
   "cell_type": "markdown",
   "id": "a40affb3-89a0-412f-93c7-c65b8ba53b09",
   "metadata": {},
   "source": [
    "# Optionally make a plot for visual QA"
   ]
  },
  {
   "cell_type": "code",
   "execution_count": null,
   "id": "d30ef833-4a45-470e-aea0-571d95ae99cf",
   "metadata": {},
   "outputs": [],
   "source": [
    "if (conversion_dict['conversion_success']):\n",
    "    if (generate_plots):\n",
    "        dataplot_dict = ES.dataplot(conversion_dict, output_folder)"
   ]
  },
  {
   "cell_type": "markdown",
   "id": "fc640b4c-7fcc-470d-b9d6-c9660d0cc2e8",
   "metadata": {},
   "source": [
    "# Report of time elapsed / done"
   ]
  },
  {
   "cell_type": "code",
   "execution_count": null,
   "id": "43e1200d-ef57-49d5-90bd-ed4aa4298556",
   "metadata": {},
   "outputs": [],
   "source": [
    "time_done = datetime.now()\n",
    "elapsed_time = time_done = time_0"
   ]
  },
  {
   "cell_type": "code",
   "execution_count": null,
   "id": "7b752558-8cb5-4f8f-a677-d6d589451948",
   "metadata": {},
   "outputs": [],
   "source": [
    "print(f'Elapsed time: {elapsed_time}')"
   ]
  },
  {
   "cell_type": "code",
   "execution_count": null,
   "id": "6a9fc4f7-7998-419a-9aed-e00c2ab1d484",
   "metadata": {},
   "outputs": [],
   "source": [
    "print('Done.')"
   ]
  }
 ],
 "metadata": {
  "kernelspec": {
   "display_name": "Python 3 (ipykernel)",
   "language": "python",
   "name": "python3"
  },
  "language_info": {
   "codemirror_mode": {
    "name": "ipython",
    "version": 3
   },
   "file_extension": ".py",
   "mimetype": "text/x-python",
   "name": "python",
   "nbconvert_exporter": "python",
   "pygments_lexer": "ipython3",
   "version": "3.12.4"
  }
 },
 "nbformat": 4,
 "nbformat_minor": 5
}
