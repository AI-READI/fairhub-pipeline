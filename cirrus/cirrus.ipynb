{
 "cells": [
  {
   "cell_type": "code",
   "execution_count": 1,
   "metadata": {},
   "outputs": [],
   "source": [
    "import sys\n",
    "\n",
    "sys.path.append(\".../pipeline_imaging/imaging\")  #'/path/to/your/project'\n",
    "\n",
    "from imaging_cirrus_root import Cirrus\n",
    "import imaging_utils\n",
    "import imaging_classifying_rules\n",
    "import os"
   ]
  },
  {
   "cell_type": "markdown",
   "metadata": {},
   "source": [
    "# Folder structure"
   ]
  },
  {
   "cell_type": "code",
   "execution_count": 2,
   "metadata": {},
   "outputs": [],
   "source": [
    "# Pooled date folders across three sites, after fda processing in the windonw VM\n",
    "# step1 (pooled)/\n",
    "# └── Cirrus/\n",
    "#     ├── UAB_Cirrus_20231201-20231231_1.fda.zip\n",
    "#     ├── UAB_Cirrus_20231201-20231231_3.fda.zip\n",
    "#     └── ... (additional zip folders)\n",
    "\n",
    "# => unzip each folder =>\n",
    "\n",
    "# folders are unzipped, and \".fda.zip\" was replaced to \"_fda\"\n",
    "# step2/\n",
    "# └── Cirrus/\n",
    "#     ├── UW_Cirrus_20231204-20240105_1_fda\n",
    "#     ├── UW_Cirrus_20231204-20240105_2_fda\n",
    "#     └── ... (additional unzipped folders)\n",
    "#         ├──── AIREADI-1075_350x350_OD_20231204_114218_SRLAngioEnface.dcm\n",
    "#         ├──── AIREADI-1075_350x350_OD_20231204_114218_SRLAngioEnface.dcm\n",
    "#         └── ... (additional DICOM files)\n",
    "\n",
    "#  => cirrus_instance.organize =>\n",
    "\n",
    "# DICOM files orangnized by protocols 4 subfolders, two subfolders for unknown protocol and critical info missing (if any)\n",
    "# protocol names are added to folders and dcm files inside that folder\n",
    "# step3/\n",
    "# └── Cirrus/\n",
    "#     ├── cirrus_mac_angiography\n",
    "#     ├── cirrus_mac_macular_cube\n",
    "#     ├── cirrus_onh_angiography\n",
    "#     ├── cirrus_onh_optic_disc_cube\n",
    "#     └── unknown_protocol\n",
    "#         ├──── unknown_protocol_AIREADI_R_UAB_Maestro2_UAB_Maestro2_20240629-20240706_7001-M-39_fda\n",
    "#         └──── unknown_protocol_AIREADI_L_UAB_Maestro2_UAB_Maestro2_20240629-20240706_7001-M-39_fda\n",
    "#                 ├──── unknown_protocol_AIREADI_L_UAB_Maestro2_UAB_Maestro2_20240629-20240706_7001-M-39_fda_2.16.840.1.114517.10.5.1.4.307064520230724155117.1.1.dcm\n",
    "#                 ├──── unknown_protocol_AIREADI_L_UAB_Maestro2_UAB_Maestro2_20240629-20240706_7001-M-39_fda_2.16.840.1.114517.10.5.1.4.307064520230724155117.2.1.dcm\n",
    "#                 └── ... (additional DICOM files)\n",
    "\n",
    "#  => cirrus_instance.onvert =>\n",
    "\n",
    "# DICOM files are formatted to be NEMA compliant, (only for known 4 protocols,) still organized by protocols. No conversion for unknown protocol and critical_info_missing\n",
    "# \"converted_\" is added to the file names, and now there are a list of dicom files in each folder\n",
    "# step4/\n",
    "# └── Cirrus/\n",
    "#     ├── cirrus_mac_angiography\n",
    "#     ├── cirrus_mac_macular_cube\n",
    "#     └── cirrus_onh_angiography\n",
    "#     ├── cirrus_onh_optic_disc_cube\n",
    "#         ├──── converted_cirrus_mac_angiography_AIREADI-1075_R_AIREADI-1075_350x350_OD_20231204_114218_AVAngioEnfaceProjectionRemoved.dcm\n",
    "#         ├──── converted_cirrus_mac_angiography_AIREADI-1075_R_AIREADI-1075_350x350_OD_20231204_114218_AVAngioEnfaceProjectionRemoved.dcm\n",
    "#         ├──── converted_cirrus_mac_angiography_AIREADI-1075_R_AIREADI-1075_350x350_OD_20231204_114218_AVAngioEnfaceProjectionRemoved.dcm\n",
    "#         └── ... (additional DICOM files)\n",
    "\n",
    "\n",
    "#  => imaging_utils.format_file => (this process is univeral to all images)\n",
    "\n",
    "# De-identified again, file renamed, and organized in a final structure for data relase\n",
    "# step5/\n",
    "#  └──retinal_photography/\n",
    "#     └─── ir/\n",
    "# #         └── zeiss_cirrus\n",
    "#                 ├── 1001\n",
    "#                 ├── 1002\n",
    "#                 └───1075\n",
    "#                        ├── 1075_cirrus_disc_6x6_octa_ir_r_1.2.276.0.75.2.2.42.215507196755019.20231204114306829.5628829040.dcm\n",
    "#                        └── 1075_cirrus_disc_oct_ir_r_1.2.276.0.75.2.2.42.215507196755019.20231204114423547.5628910920.dcm\n",
    "#                        └── ... (additional DICOM files)\n",
    "#  └──retinal_oct/\n",
    "#     └─── oct_structural_scan/\n",
    "#             └── zeiss_cirrus\n",
    "#                 ├── 1001\n",
    "#                 ├── 1002\n",
    "#                 └─── 1075\n",
    "#                        ├── 1075_cirrus_disc_6x6_octa_oct_r_1.2.276.0.75.2.2.42.215507196755019.20231204114306766.5628382640.dcm\n",
    "#                        └── 1075_cirrus_disc_oct_oct_r_1.2.276.0.75.2.2.42.215507196755019.20231204114423500.5628643170.dcm\n",
    "#                        └── ... (additional DICOM files)\n",
    "\n",
    "#  └──retinal_octa/\n",
    "#     └─── enface/\n",
    "#           └── zeiss_cirrus\n",
    "#     └─── flow_cube/\n",
    "# #         └─ zeiss_cirrus\n",
    "#     └─── segmentation/\n",
    "# #         └─ zeiss_cirrus\n",
    "#                 ├── 1001\n",
    "#                 ├── 1002\n",
    "#                 └─── 1075\n",
    "#                        ├── 1075_cirrus_disc_6x6_octa_segmentation_r_1.2.276.0.75.2.2.42.215507196755019.20231204114306829.5628829041.dcm\n",
    "#                        └── 1075_cirrus_disc_6x6_octa_segmentation_r_1.2.276.0.75.2.2.42.215507196755019.20231204114306829.5628829041.dcm"
   ]
  },
  {
   "cell_type": "markdown",
   "metadata": {},
   "source": [
    "# For this, we have to change one .py in the pydicom package  (you can run this multiple times, it will lead to the same outcome)"
   ]
  },
  {
   "cell_type": "code",
   "execution_count": 3,
   "metadata": {},
   "outputs": [],
   "source": [
    "from pydicom.datadict import DicomDictionary, keyword_dict\n",
    "from pydicom.dataset import Dataset\n",
    "\n",
    "\n",
    "# Define items as (VR, VM, description, is_retired flag, keyword)\n",
    "#   Leave is_retired flag blank.\n",
    "new_dict_items = {\n",
    "    0x0022EEE0: (\n",
    "        \"SQ\",\n",
    "        \"1\",\n",
    "        \"En Face Volume Descriptor Sequence\",\n",
    "        \"\",\n",
    "        \"EnFaceVolumeDescriptorSequence\",\n",
    "    ),\n",
    "    0x0022EEE1: (\n",
    "        \"CS\",\n",
    "        \"1\",\n",
    "        \"En Face Volume Descriptor Scope\",\n",
    "        \"\",\n",
    "        \"EnFaceVolumeDescriptorScope\",\n",
    "    ),\n",
    "    0x0022EEE2: (\n",
    "        \"SQ\",\n",
    "        \"1\",\n",
    "        \"Referenced Segmentation Sequence\",\n",
    "        \"\",\n",
    "        \"ReferencedSegmentationSequence\",\n",
    "    ),\n",
    "    0x0022EEE3: (\"FL\", \"1\", \"Surface Offset\", \"\", \"SurfaceOffset\"),\n",
    "}\n",
    "\n",
    "# Update the dictionary itself\n",
    "DicomDictionary.update(new_dict_items)\n",
    "\n",
    "# Update the reverse mapping from name to tag\n",
    "new_names_dict = dict([(val[4], tag) for tag, val in new_dict_items.items()])\n",
    "keyword_dict.update(new_names_dict)"
   ]
  },
  {
   "cell_type": "markdown",
   "metadata": {},
   "source": [
    "\n",
    "\n",
    "\n",
    "# Cirrus instance"
   ]
  },
  {
   "cell_type": "code",
   "execution_count": null,
   "metadata": {},
   "outputs": [],
   "source": [
    "cirrus_instance = Cirrus()"
   ]
  },
  {
   "cell_type": "markdown",
   "metadata": {},
   "source": [
    "# Unzip each folder, same name"
   ]
  },
  {
   "cell_type": "code",
   "execution_count": null,
   "metadata": {},
   "outputs": [],
   "source": [
    "step1 = \".../step1\"\n",
    "step2 = \".../step2\"\n",
    "device = \"Cirrus\"\n",
    "\n",
    "zips = imaging_utils.list_zip_files(f\"{step1}/{device}\")\n",
    "\n",
    "print(zips)\n",
    "\n",
    "for zip in zips:\n",
    "    unzip_file = imaging_utils.unzip_fda_file(zip, step2)"
   ]
  },
  {
   "cell_type": "markdown",
   "metadata": {},
   "source": [
    "# Organize folders by protocol"
   ]
  },
  {
   "cell_type": "code",
   "execution_count": null,
   "metadata": {},
   "outputs": [],
   "source": [
    "step2 = \".../step2\"\n",
    "step3 = \".../step3\"\n",
    "device = \"Cirrus\"\n",
    "\n",
    "\n",
    "folders = imaging_utils.list_subfolders(f\"{step2}/{device}\")\n",
    "\n",
    "for folder in folders:\n",
    "    organize_result = cirrus_instance.organize(folder, f\"{step3}/{device}\")"
   ]
  },
  {
   "cell_type": "markdown",
   "metadata": {},
   "source": [
    "# Convert files\n"
   ]
  },
  {
   "cell_type": "code",
   "execution_count": null,
   "metadata": {},
   "outputs": [],
   "source": [
    "step3 = \".../step3\"\n",
    "step4 = \".../step4\"\n",
    "device = \"Cirrus\"\n",
    "\n",
    "\n",
    "protocols = [\n",
    "    \"cirrus_mac_angiography\",\n",
    "    \"cirrus_mac_macular_cube\",\n",
    "    \"cirrus_onh_angiography\",\n",
    "    \"cirrus_onh_optic_disc_cube\",\n",
    "]\n",
    "\n",
    "for protocol in protocols:\n",
    "\n",
    "    output = f\"{step4}/{device}/{protocol}\"\n",
    "    if not os.path.exists(output):\n",
    "        os.makedirs(output)\n",
    "\n",
    "    folders = imaging_utils.list_subfolders(f\"{step3}/{device}/{protocol}\")\n",
    "\n",
    "    for folder in folders:\n",
    "        organize_result = cirrus_instance.convert(\n",
    "            folder, f\"{step4}/{device}/{protocol}\"\n",
    "        )"
   ]
  },
  {
   "cell_type": "markdown",
   "metadata": {},
   "source": [
    "# Files are de-identified again, file renamed, and organized in a final structure for data relase "
   ]
  },
  {
   "cell_type": "code",
   "execution_count": null,
   "metadata": {},
   "outputs": [],
   "source": [
    "import imaging_utils\n",
    "\n",
    "step4 = \".../step4\"\n",
    "step5 = \".../step5\"\n",
    "device = \"Cirrus\"\n",
    "metadata_folder = \".../step_metadata\"\n",
    "\n",
    "test = f\"{step4}/{device}\"\n",
    "device_list = [test]\n",
    "\n",
    "\n",
    "for folder in device_list:\n",
    "    filelist = imaging_utils.get_filtered_file_names(folder)\n",
    "\n",
    "    for file in filelist:\n",
    "        full_file_path = imaging_utils.format_file(file, f\"{step5}/{device}\")\n",
    "        cirrus_instance.metadata(full_file_path, metadata_folder)"
   ]
  }
 ],
 "metadata": {
  "kernelspec": {
   "display_name": ".env",
   "language": "python",
   "name": "python3"
  },
  "language_info": {
   "codemirror_mode": {
    "name": "ipython",
    "version": 3
   },
   "file_extension": ".py",
   "mimetype": "text/x-python",
   "name": "python",
   "nbconvert_exporter": "python",
   "pygments_lexer": "ipython3",
   "version": "3.12.2"
  }
 },
 "nbformat": 4,
 "nbformat_minor": 2
}
