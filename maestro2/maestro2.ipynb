{
 "cells": [
  {
   "cell_type": "code",
   "execution_count": null,
   "metadata": {},
   "outputs": [],
   "source": [
    "import sys\n",
    "\n",
    "sys.path.append(\".../pipeline_imaging/imaging\")  #'/path/to/your/project'\n",
    "\n",
    "from imaging_maestro2_triton_root import Maestro2_Triton\n",
    "import imaging_utils\n",
    "import imaging_classifying_rules\n",
    "import os"
   ]
  },
  {
   "cell_type": "markdown",
   "metadata": {},
   "source": [
    "# Folder structure"
   ]
  },
  {
   "cell_type": "code",
   "execution_count": null,
   "metadata": {},
   "outputs": [],
   "source": [
    "# Pooled date folders across three sites, after fda processing in the windonw VM\n",
    "# step1 (pooled)/\n",
    "# └── Maestro2/\n",
    "#     ├── UAB_Maestro2_UAB_Maestro2_20240629-20240706_7001-M-38.fda.zip\n",
    "#     ├── UAB_Maestro2_UAB_Maestro2_20240629-20240706_7001-M-44.fda.zip\n",
    "#     ├── UCSD_Maestro2_UCSD_Maestro2_20240629-20240706_1442.fda.zip\n",
    "#     ├── UW_Maestro2_UCSD_Maestro2_20240629-20240706_1442.fda.zip\n",
    "#     └── ... (additional zip folders)\n",
    "\n",
    "# => unzip each folder =>\n",
    "\n",
    "# folders are unzipped, and \".fda.zip\" was replaced to \"_fda\"\n",
    "# step2/\n",
    "# └── Maestro2/\n",
    "#     ├── UAB_Maestro2_UAB_Maestro2_20240629-20240706_7001-M-38_fda\n",
    "#     ├── UAB_Maestro2_UAB_Maestro2_20240629-20240706_7001-M-44_fda\n",
    "#     ├── UCSD_Maestro2_UCSD_Maestro2_20240629-20240706_1442_fda\n",
    "#     ├── UW_Maestro2_UCSD_Maestro2_20240629-20240706_1442_fda\n",
    "#     └── ... (additional unzipped folders)\n",
    "#         ├──── 2.16.840.1.114517.10.5.1.4.307064520230724155117.1.1.dcm\n",
    "#         ├──── 2.16.840.1.114517.10.5.1.4.307064520230724155117.2.1.dcm\n",
    "#         └── ... (additional DICOM files)\n",
    "\n",
    "\n",
    "#  => maestro2_triton_instance.organize =>\n",
    "\n",
    "# DICOM files orangnized by protocols 3 subfolders, two subfolders for unknown protocol and critical info missing (if any)\n",
    "# protocol names are added to folders and dcm files inside that folder\n",
    "# step3/\n",
    "# └── Maestro2/\n",
    "#     ├── maestro2_3d_macula_oct\n",
    "#     ├── maestro2_3d_wide_oct\n",
    "#     ├── maestro2_mac_6x6_octa\n",
    "#     ├── critical_info_missing\n",
    "#     └── unknown_protocol\n",
    "#         ├──── unknown_protocol_AIREADI_R_UAB_Maestro2_UAB_Maestro2_20240629-20240706_7001-M-39_fda\n",
    "#         └──── unknown_protocol_AIREADI_L_UAB_Maestro2_UAB_Maestro2_20240629-20240706_7001-M-39_fda\n",
    "#                 ├──── unknown_protocol_AIREADI_L_UAB_Maestro2_UAB_Maestro2_20240629-20240706_7001-M-39_fda_2.16.840.1.114517.10.5.1.4.307064520230724155117.1.1.dcm\n",
    "#                 ├──── unknown_protocol_AIREADI_L_UAB_Maestro2_UAB_Maestro2_20240629-20240706_7001-M-39_fda_2.16.840.1.114517.10.5.1.4.307064520230724155117.2.1.dcm\n",
    "#                 └── ... (additional DICOM files)\n",
    "\n",
    "#  => maestro2_triton_instance.onvert =>\n",
    "\n",
    "# DICOM files are formatted to be NEMA compliant, (only for known 3 protocols,) still organized by protocols. No conversion for unknown protocol and critical_info_missing\n",
    "# \"converted_\" is added to the file names, and now there are a list of dicom files in each folder\n",
    "# step4/\n",
    "# └── Maestro2/\n",
    "#     ├── maestro2_3d_macula_oct\n",
    "#     ├── maestro2_3d_wide_oct\n",
    "#     └── maestro2_mac_6x6_octa\n",
    "#         ├──── converted_maestro2_mac_6x6_octa_AIREADI_R_UAB_Maestro2_UAB_Maestro2_20240629-20240706_7001-M-39_fda_2.16.840.1.114517.10.5.1.4.307064520230724155149.1.1.dcm\n",
    "#         ├──── converted_maestro2_mac_6x6_octa_AIREADI_L_UAB_Maestro2_UAB_Maestro2_20240629-20240706_7001-M-39_fda_2.16.840.1.114517.10.5.1.4.307064520230724155149.2.1.dcm\n",
    "#         ├──── converted_maestro2_mac_6x6_octa_AIREADI_R_UAB_Maestro2_UAB_Maestro2_20240629-20240706_7001-M-39_fda_2.16.840.1.114517.10.5.1.4.307064520230724155149.4.1.dcm\n",
    "#         ├──── converted_maestro2_mac_6x6_octa_AIREADI_R_UAB_Maestro2_UAB_Maestro2_20240629-20240706_7001-M-39_fda_2.16.840.1.114517.10.5.1.4.307064520230724155149.5.1.dcm\n",
    "#         └── ... (additional DICOM files)\n",
    "\n",
    "\n",
    "#  => imaging_utils.format_file => (this process is univeral to all images, not eidon specific)\n",
    "\n",
    "# De-identified again, file renamed, and organized in a final structure for data relase\n",
    "# step5/\n",
    "#  └──retinal_photography/\n",
    "#     └─── cfp/\n",
    "#           └── topcon_maestro2\n",
    "#     └─── ir/\n",
    "# #         └── topcon_maestro2\n",
    "#                 ├── 1001\n",
    "#                 ├── 1002\n",
    "#                 └─── 4205\n",
    "#                        ├── 4205_maestro2_3d_macula_ir_l_2.16.840.1.114517.10.5.1.4.907097520240529143132.2.1.dcm\n",
    "#                        └── 4205_maestro2_3d_macula_ir_l_2.16.840.1.114517.10.5.1.4.907097520240529143132.2.1.dcm\n",
    "\n",
    "#  └──retinal_oct/\n",
    "#     └─── oct_structural_scan/\n",
    "#             └── topcon_maestro2\n",
    "#                 ├── 1001\n",
    "#                 ├── 1002\n",
    "#                 └─── 4205\n",
    "#                        ├── 4205_maestro2_macula_6x6_oct_l_2.16.840.1.114517.10.5.1.4.907097520240529143132.1.1.dcm\n",
    "#                        └── 4205_macula_6x6_oct_l_2.16.840.1.114517.10.5.1.4.907097520240529143132.1.1.dcm\n",
    "\n",
    "\n",
    "#  └──retinal_octa/\n",
    "#     └─── enface/\n",
    "#           └── topcon_maestro2\n",
    "#     └─── flow_cube/\n",
    "# #         └─ topcon_maestro2\n",
    "#     └─── segmentation/\n",
    "# #         └─ topcon_maestro2\n",
    "#                 ├── 1001\n",
    "#                 ├── 1002\n",
    "#                 └─── 4205\n",
    "#                        ├── 4205_maestro2_macula_6x6_segmentation_l_2.16.840.1.114517.10.5.1.4.907097520240529143132.4.1.dcm\n",
    "#                        └── 4205_maestro2_macula_6x6_segmentation_l_2.16.840.1.114517.10.5.1.4.907097520240529143132.4.1.dcm"
   ]
  },
  {
   "cell_type": "markdown",
   "metadata": {},
   "source": [
    "# For this, we have to change one .py in the pydicom package  (you can run this multiple times, it will lead to the same outcome)"
   ]
  },
  {
   "cell_type": "code",
   "execution_count": null,
   "metadata": {},
   "outputs": [],
   "source": [
    "# path to the pydicom _dicom_dict.py file in your environment's pydicom package\n",
    "file_path = (\n",
    "    \".../pipeline_imaging/.env/lib/python3.12/site-packages/pydicom/_dicom_dict.py\"\n",
    ")\n",
    "\n",
    "imaging_utils.update_pydicom_dicom_dictionary(file_path)"
   ]
  },
  {
   "cell_type": "markdown",
   "metadata": {},
   "source": [
    "\n",
    "\n",
    "\n",
    "# Maestro2 instance"
   ]
  },
  {
   "cell_type": "code",
   "execution_count": null,
   "metadata": {},
   "outputs": [],
   "source": [
    "maestro2_triton_instance = Maestro2_Triton()"
   ]
  },
  {
   "cell_type": "markdown",
   "metadata": {},
   "source": [
    "# Unzip each folder, same name"
   ]
  },
  {
   "cell_type": "code",
   "execution_count": null,
   "metadata": {},
   "outputs": [],
   "source": [
    "step1 = \".../pipeline_imaging/datafolder/step1\"\n",
    "step2 = \".../pipeline_imaging/datafolder/step2\"\n",
    "\n",
    "device = \"Maestro2\"\n",
    "\n",
    "zips = imaging_utils.list_zip_files(f\"{step1}/{device}\")\n",
    "\n",
    "for zip in zips:\n",
    "    unzip_file = imaging_utils.unzip_fda_file(zip, step2)"
   ]
  },
  {
   "cell_type": "markdown",
   "metadata": {},
   "source": [
    "# Organize folders by protocol"
   ]
  },
  {
   "cell_type": "code",
   "execution_count": null,
   "metadata": {},
   "outputs": [],
   "source": [
    "step2 = \".../pipeline_imaging/datafolder/step2\"\n",
    "step3 = \".../pipeline_imaging/datafolder/step3\"\n",
    "\n",
    "folders = imaging_utils.list_subfolders(f\"{step2}/{device}\")\n",
    "\n",
    "for folder in folders:\n",
    "    organize_result = maestro2_triton_instance.organize(folder, f\"{step3}/{device}\")"
   ]
  },
  {
   "cell_type": "markdown",
   "metadata": {},
   "source": [
    "# Convert DICOM files to NEMA compliant DICOM files"
   ]
  },
  {
   "cell_type": "code",
   "execution_count": null,
   "metadata": {},
   "outputs": [],
   "source": [
    "# These are fixed options for protocols\n",
    "step3 = \".../pipeline_imaging/datafolder/step3\"\n",
    "step4 = \".../pipeline_imaging/datafolder/step4\"\n",
    "\n",
    "protocols = [\n",
    "    \"maestro2_3d_macula_oct\",\n",
    "    \"maestro2_3d_wide_oct\",\n",
    "    \"maestro2_mac_6x6_octa\",\n",
    "]\n",
    "\n",
    "for protocol in protocols:\n",
    "\n",
    "    output = f\"{step4}/{device}/{protocol}\"\n",
    "    if not os.path.exists(output):\n",
    "        os.makedirs(output)\n",
    "\n",
    "    folders = imaging_utils.list_subfolders(f\"{step3}/{device}/{protocol}\")\n",
    "\n",
    "    for folder in folders:\n",
    "        maestro2_triton_instance.convert(folder, output)"
   ]
  },
  {
   "cell_type": "markdown",
   "metadata": {},
   "source": [
    "# Files are de-identified again, file renamed, and organized in a final structure for data relase"
   ]
  },
  {
   "cell_type": "code",
   "execution_count": null,
   "metadata": {},
   "outputs": [],
   "source": [
    "step4 = \".../pipeline_imaging/datafolder/step4\"\n",
    "step5 = \".../pipeline_imaging/datafolder/step5\"\n",
    "\n",
    "\n",
    "test = f\"{step4}/{device}\"\n",
    "device_list = [test]\n",
    "destination_folder = \".../pipeline_imaging/datafolder/step5\"\n",
    "\n",
    "\n",
    "for folder in device_list:\n",
    "    filelist = imaging_utils.get_filtered_file_names(folder)\n",
    "\n",
    "    for file in filelist:\n",
    "        imaging_utils.format_file(file, destination_folder)"
   ]
  },
  {
   "cell_type": "code",
   "execution_count": null,
   "metadata": {},
   "outputs": [],
   "source": []
  },
  {
   "cell_type": "code",
   "execution_count": null,
   "metadata": {},
   "outputs": [],
   "source": []
  },
  {
   "cell_type": "code",
   "execution_count": null,
   "metadata": {},
   "outputs": [],
   "source": []
  },
  {
   "cell_type": "code",
   "execution_count": null,
   "metadata": {},
   "outputs": [],
   "source": []
  }
 ],
 "metadata": {
  "kernelspec": {
   "display_name": ".env",
   "language": "python",
   "name": "python3"
  },
  "language_info": {
   "codemirror_mode": {
    "name": "ipython",
    "version": 3
   },
   "file_extension": ".py",
   "mimetype": "text/x-python",
   "name": "python",
   "nbconvert_exporter": "python",
   "pygments_lexer": "ipython3",
   "version": "3.12.2"
  }
 },
 "nbformat": 4,
 "nbformat_minor": 2
}
